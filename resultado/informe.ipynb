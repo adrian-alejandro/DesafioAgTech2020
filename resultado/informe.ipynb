{
 "metadata": {
  "language_info": {
   "codemirror_mode": {
    "name": "ipython",
    "version": 3
   },
   "file_extension": ".py",
   "mimetype": "text/x-python",
   "name": "python",
   "nbconvert_exporter": "python",
   "pygments_lexer": "ipython3",
   "version": "3.8.6-final"
  },
  "orig_nbformat": 2,
  "kernelspec": {
   "name": "python3",
   "display_name": "Python 3"
  }
 },
 "nbformat": 4,
 "nbformat_minor": 2,
 "cells": [
  {
   "cell_type": "code",
   "execution_count": 2,
   "metadata": {},
   "outputs": [],
   "source": [
    "#DISCLAIRMER: ESTE CODIGO ES A MODO DE EJEMPLO DIDÁCTICO, NO CONTIENE CONTROL DE ERRORES, NI SOFISTICACIONES, NI MEJORAS DE\n",
    "# PERFORMANCE. TODOS LOS USOS DE LIBRERIAS EXTERNAS PUEDEN SER MEJORADAS EN SU IMPLEMENTACIÓN.\n",
    "# ===================================================================================\n",
    "\n",
    "import matplotlib.pyplot as plt\n",
    "import numpy as np\n",
    "import csv\n",
    "from osgeo import gdal,ogr,osr \n",
    "\n",
    "# ARCHIVOS  A UTILIZAR\n",
    "# ==================================================================================\n",
    "workdir=\"/home/alfredo/Escritorio/desafiosAgTech2020/\"\n",
    "image_name = workdir+\"S2_20200117_B020304081112.tif\"  \n",
    "\n",
    "# ABRO LA IMAGEN RASTER Y ARMO HIPERMATRIZ\n",
    "# B0=BLUE, B1=GREEN, B2=RED, B3=NIR, B4=SWIR1, B5=SWIR\n",
    "# ==================================================================================\n",
    "raster_ds=gdal.Open(image_name) \n",
    "raster_gt=raster_ds.GetGeoTransform()\n",
    "raster_dataPixel=np.zeros((raster_ds.RasterYSize,\n",
    "                        raster_ds.RasterXSize,\n",
    "                        raster_ds.RasterCount))\n",
    "\n",
    "for i in range(raster_ds.RasterCount):\n",
    "    banddataraster = raster_ds.GetRasterBand(i+1)\n",
    "    raster_dataPixel[:,:,i]= banddataraster.ReadAsArray(0,0, raster_ds.RasterXSize, raster_ds.RasterYSize).astype(np.float)\n",
    "\n",
    "# CALCULOS\n",
    "# ==================================================================================\n",
    "ndvi= (raster_dataPixel[:,:,3]-raster_dataPixel[:,:,2])/(raster_dataPixel[:,:,3]+raster_dataPixel[:,:,2]) # (NIR-R)/(NIR+R)\n",
    "noVeg = ndvi<0.4\n",
    "\n",
    "# MUESTRO LAS IMGS\n",
    "# ==================================================================================\n",
    "plt.subplot(2,2,1) , plt.imshow(raster_dataPixel[:,:,0:3]*.0001*4), plt.title(\"RGB\")\n",
    "plt.subplot(2,2,2) , plt.imshow(raster_dataPixel[:,:,[5,4,3]]*.0001*3) ,plt.title(\"SWIR-NIR-R\")\n",
    "plt.subplot(2,2,3) , plt.imshow(ndvi), plt.title(\"NDVI\")\n",
    "plt.subplot(2,2,4) , plt.imshow(noVeg, interpolation='nearest') ,plt.title(\"NDVI<0.4\")\n",
    "\n",
    "plt.show()\n"
   ]
  }
 ]
}